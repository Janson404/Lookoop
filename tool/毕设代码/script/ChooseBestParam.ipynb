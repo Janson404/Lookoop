{
 "cells": [
  {
   "cell_type": "code",
   "execution_count": 1,
   "metadata": {},
   "outputs": [
    {
     "name": "stderr",
     "output_type": "stream",
     "text": [
      "C:\\ProgramData\\Anaconda3\\lib\\site-packages\\sklearn\\ensemble\\weight_boosting.py:29: DeprecationWarning: numpy.core.umath_tests is an internal NumPy module and should not be imported. It will be removed in a future NumPy release.\n",
      "  from numpy.core.umath_tests import inner1d\n"
     ]
    }
   ],
   "source": [
    "from sklearn.model_selection import cross_val_score, GridSearchCV, KFold\n",
    "from sklearn.linear_model import LinearRegression\n",
    "from sklearn.linear_model import Ridge, RidgeCV\n",
    "from sklearn.linear_model import Lasso\n",
    "from sklearn.ensemble import RandomForestRegressor, GradientBoostingRegressor, ExtraTreesRegressor, AdaBoostRegressor, BaggingRegressor\n",
    "from sklearn.svm import SVR, LinearSVR\n",
    "from sklearn.linear_model import ElasticNet, SGDRegressor, BayesianRidge\n",
    "from sklearn.kernel_ridge import KernelRidge\n",
    "from sklearn.tree import DecisionTreeRegressor\n",
    "from sklearn.neighbors import KNeighborsRegressor"
   ]
  },
  {
   "cell_type": "code",
   "execution_count": 2,
   "metadata": {},
   "outputs": [],
   "source": [
    "import pickle\n",
    "def getData(dataFilePath):\n",
    "    \"\"\"读取数据\"\"\"\n",
    "    data = pickle.load(open(dataFilePath, 'rb'))\n",
    "\n",
    "    return data "
   ]
  },
  {
   "cell_type": "code",
   "execution_count": 3,
   "metadata": {},
   "outputs": [],
   "source": [
    "import numpy as np\n",
    "def cv_rmse(model, X, y):\n",
    "    # cross_val_score函数用法：https://www.cnblogs.com/lzhc/p/9175707.html\n",
    "    rmse = np.sqrt(cv_mse(model, X, y))\n",
    "    return rmse\n",
    "\n",
    "def cv_mse(model, X, y):\n",
    "    rmse = -cross_val_score(model, X, y, scoring=\"neg_mean_squared_error\", cv=5)\n",
    "    return rmse"
   ]
  },
  {
   "cell_type": "code",
   "execution_count": 4,
   "metadata": {},
   "outputs": [
    {
     "name": "stdout",
     "output_type": "stream",
     "text": [
      "[[  42.18 -142.08 -130.84  233.82  124.2 ]\n",
      " [ -60.    168.3  -121.16  -56.34  -77.  ]\n",
      " [ 285.96 -285.3   -98.88 -228.72   69.96]\n",
      " [ 144.66 -222.36 -160.4   290.82  -10.96]\n",
      " [ -61.56 -117.66 -111.24  153.24  -84.12]\n",
      " [  37.92  -66.42   27.56 -154.2   110.8 ]\n",
      " [-169.74  243.78   16.8  -269.46 -116.92]\n",
      " [  12.96   20.46 -194.68  175.86  181.8 ]\n",
      " [ 263.04  281.76  -30.56   -3.6  -105.56]\n",
      " [ 195.42 -167.76 -216.36  242.16   15.8 ]\n",
      " [ -82.92   46.44 -260.96  200.1   144.08]\n",
      " [ 231.18 -240.72   69.2   -21.6   173.08]\n",
      " [-126.12  114.06   49.44 -126.54   59.92]\n",
      " [ 125.82  -81.54  -17.92 -112.38 -134.52]\n",
      " [-267.48   -7.14   -3.48   91.8  -132.68]\n",
      " [  96.6   -47.22 -237.88  134.16  195.88]\n",
      " [ -26.88 -128.88  -36.6  -252.84  -46.92]\n",
      " [ 219.18  239.7  -286.04   15.66 -174.8 ]\n",
      " [ 259.86 -216.6  -171.24 -197.46  -61.72]\n",
      " [-208.86  274.26 -224.88  -64.14  -34.32]\n",
      " [-235.32  193.14  -60.64   52.32 -167.36]\n",
      " [-111.42 -276.54   94.44  -91.5    36.84]\n",
      " [-150.72  210.72   36.08 -211.32 -189.4 ]\n",
      " [-189.    138.6    81.92 -179.82   48.4 ]\n",
      " [ 105.84   70.8  -297.72   69.66  101.32]\n",
      " [-282.6   -28.8  -256.24  103.38  150.16]\n",
      " [  78.   -199.32  -53.28  187.08   86.  ]\n",
      " [ 163.5   159.24 -191.28 -290.88  -20.48]\n",
      " [-255.24   90.06  -82.36  266.34   12.24]\n",
      " [  -5.7     0.48 -143.08   29.34 -158.04]]\n",
      "********************\n",
      "[38071.185 39200.969 39193.068 37650.16  39066.458 39035.507 38455.18\n",
      " 38374.768 37974.92  39167.307 38902.142 39334.767 37980.654 38298.512\n",
      " 39840.227 38051.073 38501.634 38330.912 39060.899 39617.136 38163.894\n",
      " 39591.876 38145.634 37913.137 38977.855 38604.855 38008.155 39062.525\n",
      " 38227.168 38967.278]\n"
     ]
    }
   ],
   "source": [
    "dataFilePath = r\"C:\\Study\\github\\Lookoops\\tool\\毕设代码\\data\\samples-data.data\"\n",
    "labelsFilePath = r\"C:\\Study\\github\\Lookoops\\tool\\毕设代码\\data\\samples-data-labels.data\"\n",
    "X = getData(dataFilePath)\n",
    "y = getData(labelsFilePath)\n",
    "Y = y.reshape(1, len(y))[0]\n",
    "print(X)\n",
    "print(\"*\"*20)\n",
    "print(Y)"
   ]
  },
  {
   "cell_type": "code",
   "execution_count": 5,
   "metadata": {},
   "outputs": [],
   "source": [
    "from xgboost import XGBRegressor\n",
    "models = [LinearRegression(),\n",
    "          Ridge(), # http://www.cnblogs.com/pinard/p/6023000.html\n",
    "          Lasso(alpha=0.01,max_iter=10000), # https://scikit-learn.org/stable/modules/generated/sklearn.linear_model.Lasso.html\n",
    "          RandomForestRegressor(), # https://scikit-learn.org/dev/modules/generated/sklearn.ensemble.RandomForestRegressor.html\n",
    "          GradientBoostingRegressor(), # https://scikit-learn.org/stable/modules/generated/sklearn.ensemble.GradientBoostingRegressor.html\n",
    "          SVR(), # https://scikit-learn.org/stable/modules/generated/sklearn.svm.SVR.html#sklearn.svm.SVR\n",
    "          LinearSVR(), # https://scikit-learn.org/stable/modules/generated/sklearn.svm.LinearSVR.html\n",
    "          ElasticNet(alpha=0.001,max_iter=10000), # https://scikit-learn.org/stable/modules/generated/sklearn.linear_model.ElasticNet.html\n",
    "          SGDRegressor(max_iter=10000,tol=1e-3), # https://scikit-learn.org/stable/modules/generated/sklearn.linear_model.SGDRegressor.html\n",
    "          BayesianRidge(), # \n",
    "          KernelRidge(alpha=0.6, kernel='polynomial', degree=2, coef0=2.5), # https://scikit-learn.org/stable/modules/generated/sklearn.kernel_ridge.KernelRidge.html\n",
    "         ExtraTreesRegressor(), # https://scikit-learn.org/stable/modules/generated/sklearn.ensemble.ExtraTreesRegressor.html\n",
    "          XGBRegressor(), \n",
    "          AdaBoostRegressor(n_estimators=50), # https://scikit-learn.org/stable/modules/generated/sklearn.ensemble.AdaBoostRegressor.html\n",
    "          BaggingRegressor(), # https://scikit-learn.org/stable/modules/generated/sklearn.ensemble.BaggingRegressor.html\n",
    "          DecisionTreeRegressor(), #https://scikit-learn.org/stable/modules/generated/sklearn.tree.DecisionTreeRegressor.html\n",
    "          KNeighborsRegressor()] # https://scikit-learn.org/0.18/modules/generated/sklearn.neighbors.KNeighborsRegressor.html"
   ]
  },
  {
   "cell_type": "code",
   "execution_count": 6,
   "metadata": {},
   "outputs": [
    {
     "name": "stdout",
     "output_type": "stream",
     "text": [
      "LR: 668.966995, 132.1050\n",
      "Ridge: 668.965818, 132.1036\n",
      "Lasso: 668.966895, 132.1049\n",
      "RF: 650.058998, 82.3724\n",
      "GBR: 833.616662, 64.4024\n",
      "SVR: 614.468927, 128.1587\n",
      "LinSVR: 28559.197786, 6796.9907\n",
      "Ela: 668.966976, 132.1050\n",
      "SGD: 250350937549766.687500, 89981549581914.5781\n",
      "Bay: 578.561397, 119.6475\n",
      "Ker: 12667.172637, 7050.5246\n",
      "Extra: 738.173771, 94.6411\n",
      "xgbr: 828.493549, 53.0106\n",
      "AdaBoost: 760.629009, 113.3231\n",
      "Bagging: 720.868170, 43.6084\n",
      "DT: 924.218702, 56.1583\n",
      "KN: 599.128679, 117.7451\n"
     ]
    }
   ],
   "source": [
    "names = [\"LR\", \"Ridge\", \"Lasso\", \"RF\", \"GBR\", \"SVR\", \"LinSVR\", \"Ela\",\"SGD\",\"Bay\",\"Ker\",\"Extra\",\"xgbr\", \"AdaBoost\", \"Bagging\", \"DT\", \"KN\"]\n",
    "for name, model in zip(names, models):\n",
    "    score = cv_rmse(model, X, Y)\n",
    "    print(\"{}: {:.6f}, {:.4f}\".format(name,score.mean(), score.std()))"
   ]
  },
  {
   "cell_type": "code",
   "execution_count": 7,
   "metadata": {},
   "outputs": [],
   "source": [
    "import pandas as pd\n",
    "class grid():\n",
    "    def __init__(self, model):\n",
    "        self.model = model\n",
    "        \n",
    "    def grid_train(self, X, y, train_para):\n",
    "        grid_search = GridSearchCV(self.model, train_para, cv=5, scoring=\"neg_mean_squared_error\", return_train_score=True)\n",
    "        grid_search.fit(X, y)\n",
    "        print(grid_search.best_params_, np.sqrt(-grid_search.best_score_)) # 打印最好的结果\n",
    "        grid_search.cv_results_['mean_test_score'] = np.sqrt(-grid_search.cv_results_['mean_test_score'])\n",
    "#         print(pd.DataFrame(grid_search.cv_results_)[['params','mean_test_score','std_test_score']])"
   ]
  },
  {
   "cell_type": "code",
   "execution_count": 8,
   "metadata": {},
   "outputs": [
    {
     "name": "stdout",
     "output_type": "stream",
     "text": [
      "{'alpha': 0.002, 'max_iter': 10000} 681.8860239277785\n"
     ]
    }
   ],
   "source": [
    "grid(Lasso()).grid_train(X,Y,{'alpha': [0.001, 0.002, 0.0003, 0.00035, 0.0004,0.0005,0.0007,0.0006,0.0009,0.0008], 'max_iter':[10000]})"
   ]
  },
  {
   "cell_type": "code",
   "execution_count": 9,
   "metadata": {},
   "outputs": [
    {
     "name": "stdout",
     "output_type": "stream",
     "text": [
      "{'alpha': 19} 681.8589080937944\n"
     ]
    }
   ],
   "source": [
    "grid(Ridge()).grid_train(X,Y,{'alpha':[i for i in range(10, 20)]})"
   ]
  },
  {
   "cell_type": "code",
   "execution_count": 10,
   "metadata": {},
   "outputs": [
    {
     "name": "stdout",
     "output_type": "stream",
     "text": [
      "{'max_depth': 1, 'n_estimators': 60} 633.4422509530473\n"
     ]
    }
   ],
   "source": [
    "grid(RandomForestRegressor()).grid_train(X, Y,{'max_depth':[i for i in range(1, 10)]+[None], 'n_estimators':[i for i in range(10, 120, 10)]})"
   ]
  },
  {
   "cell_type": "code",
   "execution_count": 11,
   "metadata": {},
   "outputs": [
    {
     "name": "stdout",
     "output_type": "stream",
     "text": [
      "{'learning_rate': 0.6, 'n_estimators': 80} 798.3916762816986\n"
     ]
    }
   ],
   "source": [
    "grid(GradientBoostingRegressor()).grid_train(X,Y,{'learning_rate':[float(i/10) for i in range(1, 10)], 'n_estimators':[i for i in range(50, 150, 10)]})"
   ]
  },
  {
   "cell_type": "code",
   "execution_count": 12,
   "metadata": {},
   "outputs": [
    {
     "name": "stdout",
     "output_type": "stream",
     "text": [
      "{'epsilon': 1000, 'gamma': 0.005, 'kernel': 'rbf'} 583.9436418446987\n"
     ]
    }
   ],
   "source": [
    "grid(SVR()).grid_train(X,Y,\n",
    "                       {\n",
    "                           'kernel':['rbf'], \n",
    "                           'gamma':[0.0001, 0.0005, 0.001,0.005, 0.01, 0.05, 0.1, 0.5],\n",
    "                           'epsilon':[0.0005, 0.001,0.005, 0.01, 0.05, 0.1, 0.5, 1, 10, 20, 50, 100, 500, 1000, 5000]\n",
    "                       })"
   ]
  },
  {
   "cell_type": "code",
   "execution_count": 13,
   "metadata": {},
   "outputs": [
    {
     "name": "stdout",
     "output_type": "stream",
     "text": [
      "{'epsilon': 0.001, 'loss': 'epsilon_insensitive'} 29354.641398160365\n"
     ]
    }
   ],
   "source": [
    "grid(LinearSVR()).grid_train(X,Y,{'epsilon':[0.0005, 0.001,0.005, 0.01, 0.05, 0.1, 0.5], 'loss':['epsilon_insensitive', 'squared_epsilon_insensitive']})"
   ]
  },
  {
   "cell_type": "code",
   "execution_count": 14,
   "metadata": {},
   "outputs": [
    {
     "name": "stdout",
     "output_type": "stream",
     "text": [
      "{'learning_rate': 0.2} 815.7000128990016\n"
     ]
    }
   ],
   "source": [
    "grid(GradientBoostingRegressor()).grid_train(X,Y,{'learning_rate':[float(i/10) for i in range(1, 10)]})"
   ]
  },
  {
   "cell_type": "code",
   "execution_count": 15,
   "metadata": {},
   "outputs": [
    {
     "name": "stdout",
     "output_type": "stream",
     "text": [
      "{'alpha': 0.5, 'l1_ratio': 0.08, 'max_iter': 10000} 681.8697631819316\n"
     ]
    }
   ],
   "source": [
    "grid(ElasticNet()).grid_train(X,Y,{'alpha':[0.0005, 0.001,0.005, 0.01, 0.05, 0.1, 0.5],'l1_ratio':[0.08,0.1,0.3,0.5,0.7],'max_iter':[10000]})"
   ]
  },
  {
   "cell_type": "code",
   "execution_count": 16,
   "metadata": {},
   "outputs": [],
   "source": [
    "# 报错\n",
    "# grid(SGDRegressor()).grid_train(X,Y,{'alpha':[0.005, 0.01, 0.05, 0.1,0.2, 0.3, 0.4, 0.5, 0.6, 0.7, 0.8, 0.9, 1, 5],'l1_ratio':[0.08,0.1,0.3,0.5,0.7, 0.8, 0.9, 1]})"
   ]
  },
  {
   "cell_type": "code",
   "execution_count": 17,
   "metadata": {},
   "outputs": [
    {
     "name": "stdout",
     "output_type": "stream",
     "text": [
      "{'alpha_1': 1e-06, 'alpha_2': 1e-06, 'tol': 0.0001} 590.7314031155472\n"
     ]
    }
   ],
   "source": [
    "grid(BayesianRidge()).grid_train(X,Y, {'alpha_1':[1e-6, 5e-6, 1e-5], 'alpha_2':[5e-7, 1e-6], 'tol':[0.0001, 0.0005, 0.001, 0.002, 0.005, 0.01]})"
   ]
  },
  {
   "cell_type": "code",
   "execution_count": 18,
   "metadata": {},
   "outputs": [
    {
     "name": "stdout",
     "output_type": "stream",
     "text": [
      "{'alpha': 5, 'coef0': 3, 'kernel': 'polynomial'} 189772.72357015283\n"
     ]
    }
   ],
   "source": [
    "grid(KernelRidge()).grid_train(X,Y,{'alpha':[0.05, 0.1, 0.3,0.4, 0.5, 0.6, 0.7, 0.8, 0.9, 1, 5], 'kernel':['polynomial'], 'coef0':[1, 1.2, 1.5, 1.6, 1.8, 1.9, 2, 2.2, 2.5, 3]})"
   ]
  },
  {
   "cell_type": "code",
   "execution_count": 19,
   "metadata": {},
   "outputs": [
    {
     "name": "stdout",
     "output_type": "stream",
     "text": [
      "{'min_samples_leaf': 0.4, 'min_samples_split': 0.9} 590.7041906622155\n"
     ]
    }
   ],
   "source": [
    "grid(ExtraTreesRegressor()).grid_train(X, Y,{'min_samples_split':[i/10 for i in range(1, 10)], 'min_samples_leaf':[i/10 for i in range(1, 5)]})"
   ]
  },
  {
   "cell_type": "code",
   "execution_count": 20,
   "metadata": {},
   "outputs": [
    {
     "name": "stdout",
     "output_type": "stream",
     "text": [
      "{'learning_rate': 0.4, 'n_estimators': 40} 676.6760069325853\n"
     ]
    }
   ],
   "source": [
    "grid(AdaBoostRegressor()).grid_train(X, Y, {'n_estimators':[i for i in range(10, 100, 10)], 'learning_rate':[i/10 for i in range(1, 10)]})"
   ]
  },
  {
   "cell_type": "code",
   "execution_count": 21,
   "metadata": {},
   "outputs": [
    {
     "name": "stdout",
     "output_type": "stream",
     "text": [
      "{'n_estimators': 30} 650.7333432071651\n"
     ]
    }
   ],
   "source": [
    "grid(BaggingRegressor()).grid_train(X, Y, {'n_estimators':[i for i in range(1, 50)]})"
   ]
  },
  {
   "cell_type": "code",
   "execution_count": 22,
   "metadata": {},
   "outputs": [
    {
     "name": "stdout",
     "output_type": "stream",
     "text": [
      "{} 919.0267071623101\n"
     ]
    }
   ],
   "source": [
    "grid(DecisionTreeRegressor()).grid_train(X, Y, {})"
   ]
  },
  {
   "cell_type": "code",
   "execution_count": 23,
   "metadata": {},
   "outputs": [
    {
     "name": "stdout",
     "output_type": "stream",
     "text": [
      "{'n_neighbors': 19} 594.9841725357646\n"
     ]
    }
   ],
   "source": [
    "grid(KNeighborsRegressor()).grid_train(X, Y, {'n_neighbors':[i for i in range(1, 20)]})"
   ]
  }
 ],
 "metadata": {
  "kernelspec": {
   "display_name": "Python 3",
   "language": "python",
   "name": "python3"
  },
  "language_info": {
   "codemirror_mode": {
    "name": "ipython",
    "version": 3
   },
   "file_extension": ".py",
   "mimetype": "text/x-python",
   "name": "python",
   "nbconvert_exporter": "python",
   "pygments_lexer": "ipython3",
   "version": "3.6.5"
  }
 },
 "nbformat": 4,
 "nbformat_minor": 2
}
